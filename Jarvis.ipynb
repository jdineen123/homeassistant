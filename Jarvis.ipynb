{
 "cells": [
  {
   "cell_type": "code",
   "execution_count": 1,
   "metadata": {
    "ExecuteTime": {
     "end_time": "2018-04-30T04:43:49.382749Z",
     "start_time": "2018-04-30T04:43:40.179192Z"
    },
    "scrolled": true
   },
   "outputs": [
    {
     "name": "stdout",
     "output_type": "stream",
     "text": [
      "Requirement already satisfied: opencv-python in c:\\users\\jdine\\documents\\anaconda3\\envs\\tensorflowlatest\\lib\\site-packages\n",
      "Requirement already satisfied: numpy>=1.11.3 in c:\\users\\jdine\\documents\\anaconda3\\envs\\tensorflowlatest\\lib\\site-packages (from opencv-python)\n"
     ]
    },
    {
     "name": "stderr",
     "output_type": "stream",
     "text": [
      "You are using pip version 9.0.3, however version 10.0.1 is available.\n",
      "You should consider upgrading via the 'python -m pip install --upgrade pip' command.\n"
     ]
    },
    {
     "name": "stdout",
     "output_type": "stream",
     "text": [
      "Requirement already satisfied: gTTS in c:\\users\\jdine\\documents\\anaconda3\\envs\\tensorflowlatest\\lib\\site-packages\n",
      "Requirement already satisfied: six in c:\\users\\jdine\\documents\\anaconda3\\envs\\tensorflowlatest\\lib\\site-packages (from gTTS)\n",
      "Requirement already satisfied: requests in c:\\users\\jdine\\documents\\anaconda3\\envs\\tensorflowlatest\\lib\\site-packages (from gTTS)\n",
      "Requirement already satisfied: gtts-token in c:\\users\\jdine\\documents\\anaconda3\\envs\\tensorflowlatest\\lib\\site-packages (from gTTS)\n",
      "Requirement already satisfied: chardet<3.1.0,>=3.0.2 in c:\\users\\jdine\\documents\\anaconda3\\envs\\tensorflowlatest\\lib\\site-packages (from requests->gTTS)\n",
      "Requirement already satisfied: idna<2.7,>=2.5 in c:\\users\\jdine\\documents\\anaconda3\\envs\\tensorflowlatest\\lib\\site-packages (from requests->gTTS)\n",
      "Requirement already satisfied: urllib3<1.23,>=1.21.1 in c:\\users\\jdine\\documents\\anaconda3\\envs\\tensorflowlatest\\lib\\site-packages (from requests->gTTS)\n",
      "Requirement already satisfied: certifi>=2017.4.17 in c:\\users\\jdine\\documents\\anaconda3\\envs\\tensorflowlatest\\lib\\site-packages (from requests->gTTS)\n"
     ]
    },
    {
     "name": "stderr",
     "output_type": "stream",
     "text": [
      "You are using pip version 9.0.3, however version 10.0.1 is available.\n",
      "You should consider upgrading via the 'python -m pip install --upgrade pip' command.\n"
     ]
    },
    {
     "name": "stdout",
     "output_type": "stream",
     "text": [
      "Requirement already satisfied: PyAudio in c:\\users\\jdine\\documents\\anaconda3\\envs\\tensorflowlatest\\lib\\site-packages\n"
     ]
    },
    {
     "name": "stderr",
     "output_type": "stream",
     "text": [
      "You are using pip version 9.0.3, however version 10.0.1 is available.\n",
      "You should consider upgrading via the 'python -m pip install --upgrade pip' command.\n"
     ]
    },
    {
     "name": "stdout",
     "output_type": "stream",
     "text": [
      "Requirement already satisfied: SpeechRecognition in c:\\users\\jdine\\documents\\anaconda3\\envs\\tensorflowlatest\\lib\\site-packages\n"
     ]
    },
    {
     "name": "stderr",
     "output_type": "stream",
     "text": [
      "You are using pip version 9.0.3, however version 10.0.1 is available.\n",
      "You should consider upgrading via the 'python -m pip install --upgrade pip' command.\n"
     ]
    },
    {
     "name": "stdout",
     "output_type": "stream",
     "text": [
      "Requirement already satisfied: spotipy in c:\\users\\jdine\\documents\\anaconda3\\envs\\tensorflowlatest\\lib\\site-packages\n",
      "Requirement already satisfied: requests>=1.0 in c:\\users\\jdine\\documents\\anaconda3\\envs\\tensorflowlatest\\lib\\site-packages (from spotipy)\n",
      "Requirement already satisfied: chardet<3.1.0,>=3.0.2 in c:\\users\\jdine\\documents\\anaconda3\\envs\\tensorflowlatest\\lib\\site-packages (from requests>=1.0->spotipy)\n",
      "Requirement already satisfied: idna<2.7,>=2.5 in c:\\users\\jdine\\documents\\anaconda3\\envs\\tensorflowlatest\\lib\\site-packages (from requests>=1.0->spotipy)\n",
      "Requirement already satisfied: urllib3<1.23,>=1.21.1 in c:\\users\\jdine\\documents\\anaconda3\\envs\\tensorflowlatest\\lib\\site-packages (from requests>=1.0->spotipy)\n",
      "Requirement already satisfied: certifi>=2017.4.17 in c:\\users\\jdine\\documents\\anaconda3\\envs\\tensorflowlatest\\lib\\site-packages (from requests>=1.0->spotipy)\n"
     ]
    },
    {
     "name": "stderr",
     "output_type": "stream",
     "text": [
      "You are using pip version 9.0.3, however version 10.0.1 is available.\n",
      "You should consider upgrading via the 'python -m pip install --upgrade pip' command.\n"
     ]
    },
    {
     "name": "stdout",
     "output_type": "stream",
     "text": [
      "Requirement already satisfied: pyttsx in c:\\users\\jdine\\documents\\anaconda3\\envs\\tensorflowlatest\\lib\\site-packages\n"
     ]
    },
    {
     "name": "stderr",
     "output_type": "stream",
     "text": [
      "You are using pip version 9.0.3, however version 10.0.1 is available.\n",
      "You should consider upgrading via the 'python -m pip install --upgrade pip' command.\n"
     ]
    },
    {
     "name": "stdout",
     "output_type": "stream",
     "text": [
      "Requirement already satisfied: pyttsx3 in c:\\users\\jdine\\documents\\anaconda3\\envs\\tensorflowlatest\\lib\\site-packages\n"
     ]
    },
    {
     "name": "stderr",
     "output_type": "stream",
     "text": [
      "You are using pip version 9.0.3, however version 10.0.1 is available.\n",
      "You should consider upgrading via the 'python -m pip install --upgrade pip' command.\n"
     ]
    },
    {
     "name": "stdout",
     "output_type": "stream",
     "text": [
      "Requirement already satisfied: pypiwin32 in c:\\users\\jdine\\documents\\anaconda3\\envs\\tensorflowlatest\\lib\\site-packages\n",
      "Requirement already satisfied: pywin32>=223 in c:\\users\\jdine\\documents\\anaconda3\\envs\\tensorflowlatest\\lib\\site-packages (from pypiwin32)\n"
     ]
    },
    {
     "name": "stderr",
     "output_type": "stream",
     "text": [
      "You are using pip version 9.0.3, however version 10.0.1 is available.\n",
      "You should consider upgrading via the 'python -m pip install --upgrade pip' command.\n"
     ]
    },
    {
     "name": "stdout",
     "output_type": "stream",
     "text": [
      "Requirement already satisfied: phue in c:\\users\\jdine\\documents\\anaconda3\\envs\\tensorflowlatest\\lib\\site-packages\n"
     ]
    },
    {
     "name": "stderr",
     "output_type": "stream",
     "text": [
      "You are using pip version 9.0.3, however version 10.0.1 is available.\n",
      "You should consider upgrading via the 'python -m pip install --upgrade pip' command.\n"
     ]
    },
    {
     "name": "stdout",
     "output_type": "stream",
     "text": [
      "Requirement already satisfied: spotipy in c:\\users\\jdine\\documents\\anaconda3\\envs\\tensorflowlatest\\lib\\site-packages\n",
      "Requirement already satisfied: requests>=1.0 in c:\\users\\jdine\\documents\\anaconda3\\envs\\tensorflowlatest\\lib\\site-packages (from spotipy)\n",
      "Requirement already satisfied: chardet<3.1.0,>=3.0.2 in c:\\users\\jdine\\documents\\anaconda3\\envs\\tensorflowlatest\\lib\\site-packages (from requests>=1.0->spotipy)\n",
      "Requirement already satisfied: idna<2.7,>=2.5 in c:\\users\\jdine\\documents\\anaconda3\\envs\\tensorflowlatest\\lib\\site-packages (from requests>=1.0->spotipy)\n",
      "Requirement already satisfied: urllib3<1.23,>=1.21.1 in c:\\users\\jdine\\documents\\anaconda3\\envs\\tensorflowlatest\\lib\\site-packages (from requests>=1.0->spotipy)\n",
      "Requirement already satisfied: certifi>=2017.4.17 in c:\\users\\jdine\\documents\\anaconda3\\envs\\tensorflowlatest\\lib\\site-packages (from requests>=1.0->spotipy)\n"
     ]
    },
    {
     "name": "stderr",
     "output_type": "stream",
     "text": [
      "You are using pip version 9.0.3, however version 10.0.1 is available.\n",
      "You should consider upgrading via the 'python -m pip install --upgrade pip' command.\n"
     ]
    },
    {
     "name": "stdout",
     "output_type": "stream",
     "text": [
      "Requirement already satisfied: homeassistant in c:\\users\\jdine\\documents\\anaconda3\\envs\\tensorflowlatest\\lib\\site-packages\n",
      "Requirement already satisfied: certifi>=2017.4.17 in c:\\users\\jdine\\documents\\anaconda3\\envs\\tensorflowlatest\\lib\\site-packages (from homeassistant)\n",
      "Requirement already satisfied: voluptuous==0.11.1 in c:\\users\\jdine\\documents\\anaconda3\\envs\\tensorflowlatest\\lib\\site-packages (from homeassistant)\n",
      "Requirement already satisfied: astral==1.5 in c:\\users\\jdine\\documents\\anaconda3\\envs\\tensorflowlatest\\lib\\site-packages (from homeassistant)\n",
      "Requirement already satisfied: pytz>=2017.02 in c:\\users\\jdine\\documents\\anaconda3\\envs\\tensorflowlatest\\lib\\site-packages (from homeassistant)\n",
      "Requirement already satisfied: attrs==17.4.0 in c:\\users\\jdine\\documents\\anaconda3\\envs\\tensorflowlatest\\lib\\site-packages (from homeassistant)\n",
      "Requirement already satisfied: requests==2.18.4 in c:\\users\\jdine\\documents\\anaconda3\\envs\\tensorflowlatest\\lib\\site-packages (from homeassistant)\n",
      "Requirement already satisfied: aiohttp==3.0.6 in c:\\users\\jdine\\documents\\anaconda3\\envs\\tensorflowlatest\\lib\\site-packages (from homeassistant)\n",
      "Requirement already satisfied: jinja2>=2.10 in c:\\users\\jdine\\documents\\anaconda3\\envs\\tensorflowlatest\\lib\\site-packages (from homeassistant)\n",
      "Requirement already satisfied: pyyaml<4,>=3.11 in c:\\users\\jdine\\documents\\anaconda3\\envs\\tensorflowlatest\\lib\\site-packages (from homeassistant)\n",
      "Requirement already satisfied: typing<4,>=3 in c:\\users\\jdine\\documents\\anaconda3\\envs\\tensorflowlatest\\lib\\site-packages (from homeassistant)\n",
      "Requirement already satisfied: pip>=8.0.3 in c:\\users\\jdine\\documents\\anaconda3\\envs\\tensorflowlatest\\lib\\site-packages (from homeassistant)\n",
      "Requirement already satisfied: async-timeout==2.0.0 in c:\\users\\jdine\\documents\\anaconda3\\envs\\tensorflowlatest\\lib\\site-packages (from homeassistant)\n",
      "Requirement already satisfied: chardet<3.1.0,>=3.0.2 in c:\\users\\jdine\\documents\\anaconda3\\envs\\tensorflowlatest\\lib\\site-packages (from requests==2.18.4->homeassistant)\n",
      "Requirement already satisfied: idna<2.7,>=2.5 in c:\\users\\jdine\\documents\\anaconda3\\envs\\tensorflowlatest\\lib\\site-packages (from requests==2.18.4->homeassistant)\n",
      "Requirement already satisfied: urllib3<1.23,>=1.21.1 in c:\\users\\jdine\\documents\\anaconda3\\envs\\tensorflowlatest\\lib\\site-packages (from requests==2.18.4->homeassistant)\n",
      "Requirement already satisfied: multidict<5.0,>=4.0 in c:\\users\\jdine\\documents\\anaconda3\\envs\\tensorflowlatest\\lib\\site-packages (from aiohttp==3.0.6->homeassistant)\n",
      "Requirement already satisfied: yarl<2.0,>=1.0 in c:\\users\\jdine\\documents\\anaconda3\\envs\\tensorflowlatest\\lib\\site-packages (from aiohttp==3.0.6->homeassistant)\n",
      "Requirement already satisfied: idna-ssl>=1.0 in c:\\users\\jdine\\documents\\anaconda3\\envs\\tensorflowlatest\\lib\\site-packages (from aiohttp==3.0.6->homeassistant)\n",
      "Requirement already satisfied: MarkupSafe>=0.23 in c:\\users\\jdine\\documents\\anaconda3\\envs\\tensorflowlatest\\lib\\site-packages (from jinja2>=2.10->homeassistant)\n"
     ]
    },
    {
     "name": "stderr",
     "output_type": "stream",
     "text": [
      "You are using pip version 9.0.3, however version 10.0.1 is available.\n",
      "You should consider upgrading via the 'python -m pip install --upgrade pip' command.\n"
     ]
    },
    {
     "name": "stdout",
     "output_type": "stream",
     "text": [
      "Requirement already satisfied: qhue in c:\\users\\jdine\\documents\\anaconda3\\envs\\tensorflowlatest\\lib\\site-packages\n",
      "Requirement already satisfied: requests in c:\\users\\jdine\\documents\\anaconda3\\envs\\tensorflowlatest\\lib\\site-packages (from qhue)\n",
      "Requirement already satisfied: chardet<3.1.0,>=3.0.2 in c:\\users\\jdine\\documents\\anaconda3\\envs\\tensorflowlatest\\lib\\site-packages (from requests->qhue)\n",
      "Requirement already satisfied: idna<2.7,>=2.5 in c:\\users\\jdine\\documents\\anaconda3\\envs\\tensorflowlatest\\lib\\site-packages (from requests->qhue)\n",
      "Requirement already satisfied: urllib3<1.23,>=1.21.1 in c:\\users\\jdine\\documents\\anaconda3\\envs\\tensorflowlatest\\lib\\site-packages (from requests->qhue)\n",
      "Requirement already satisfied: certifi>=2017.4.17 in c:\\users\\jdine\\documents\\anaconda3\\envs\\tensorflowlatest\\lib\\site-packages (from requests->qhue)\n"
     ]
    },
    {
     "name": "stderr",
     "output_type": "stream",
     "text": [
      "You are using pip version 9.0.3, however version 10.0.1 is available.\n",
      "You should consider upgrading via the 'python -m pip install --upgrade pip' command.\n"
     ]
    },
    {
     "name": "stdout",
     "output_type": "stream",
     "text": [
      "Requirement already satisfied: wikipedia in c:\\users\\jdine\\documents\\anaconda3\\envs\\tensorflowlatest\\lib\\site-packages\n",
      "Requirement already satisfied: beautifulsoup4 in c:\\users\\jdine\\documents\\anaconda3\\envs\\tensorflowlatest\\lib\\site-packages (from wikipedia)\n",
      "Requirement already satisfied: requests<3.0.0,>=2.0.0 in c:\\users\\jdine\\documents\\anaconda3\\envs\\tensorflowlatest\\lib\\site-packages (from wikipedia)\n",
      "Requirement already satisfied: chardet<3.1.0,>=3.0.2 in c:\\users\\jdine\\documents\\anaconda3\\envs\\tensorflowlatest\\lib\\site-packages (from requests<3.0.0,>=2.0.0->wikipedia)\n",
      "Requirement already satisfied: idna<2.7,>=2.5 in c:\\users\\jdine\\documents\\anaconda3\\envs\\tensorflowlatest\\lib\\site-packages (from requests<3.0.0,>=2.0.0->wikipedia)\n",
      "Requirement already satisfied: urllib3<1.23,>=1.21.1 in c:\\users\\jdine\\documents\\anaconda3\\envs\\tensorflowlatest\\lib\\site-packages (from requests<3.0.0,>=2.0.0->wikipedia)\n",
      "Requirement already satisfied: certifi>=2017.4.17 in c:\\users\\jdine\\documents\\anaconda3\\envs\\tensorflowlatest\\lib\\site-packages (from requests<3.0.0,>=2.0.0->wikipedia)\n"
     ]
    },
    {
     "name": "stderr",
     "output_type": "stream",
     "text": [
      "You are using pip version 9.0.3, however version 10.0.1 is available.\n",
      "You should consider upgrading via the 'python -m pip install --upgrade pip' command.\n"
     ]
    }
   ],
   "source": [
    "!pip install opencv-python\n",
    "!pip install gTTS\n",
    "!pip install PyAudio \n",
    "!pip install SpeechRecognition\n",
    "!pip install spotipy\n",
    "!pip install pyttsx \n",
    "!pip install pyttsx3\n",
    "!pip install pypiwin32\n",
    "!pip install phue\n",
    "!pip install spotipy\n",
    "!pip install homeassistant\n",
    "!pip install qhue\n",
    "!pip install wikipedia\n",
    "\n",
    "from time import ctime\n",
    "import time\n",
    "import os\n",
    "from gtts import gTTS\n",
    "import speech_recognition as sr\n",
    "import numpy as np\n",
    "import random\n",
    "\n",
    "import pyttsx3\n",
    "import webbrowser\n",
    "from phue import Bridge\n",
    "import numpy as np\n",
    "import spotipy\n",
    "import datetime\n",
    "import cv2\n",
    "import wave\n",
    "import re\n",
    "import datetime\n",
    "import spotipy as spotipy\n",
    "import sys\n",
    "import time\n",
    "from random import randrange\n",
    "import wikipedia\n",
    "import re\n",
    "import datetime\n",
    "import spotipy as spotipy\n",
    "import sys\n",
    "import time\n",
    "from random import randrange\n",
    "import sys, signal\n",
    "import requests\n"
   ]
  },
  {
   "cell_type": "markdown",
   "metadata": {
    "ExecuteTime": {
     "end_time": "2018-03-29T11:48:42.087376Z",
     "start_time": "2018-03-29T11:48:41.953019Z"
    }
   },
   "source": [
    "The below is a construct for JARVIS, built on conditional statements and random.selection\n",
    "\n",
    "https://github.com/ocelma/python-itunes\n",
    "\n",
    "https://github.com/snjoetw/py-august\n",
    "\n",
    "https://github.com/studioimaginaire/phue\n",
    "\n",
    "\n",
    "- cd C:\\Users\\jdine\\Documents\\Python_MachineLearning_DeepLearning\n",
    "- runipy <YourNotebookName>.ipynb"
   ]
  },
  {
   "cell_type": "code",
   "execution_count": null,
   "metadata": {
    "ExecuteTime": {
     "end_time": "2018-04-06T22:20:05.097478Z",
     "start_time": "2018-04-06T22:20:05.092465Z"
    }
   },
   "outputs": [],
   "source": []
  },
  {
   "cell_type": "code",
   "execution_count": 2,
   "metadata": {
    "ExecuteTime": {
     "end_time": "2018-04-30T04:46:12.764502Z",
     "start_time": "2018-04-30T04:43:49.383753Z"
    },
    "code_folding": []
   },
   "outputs": [
    {
     "name": "stdout",
     "output_type": "stream",
     "text": [
      "Jarvis here, what can I do for you!\n",
      "You said: Jarvis what time is it\n",
      "09:44:24 PM\n",
      "You said: Jarvis turn lights on\n",
      "Lights are now on\n"
     ]
    },
    {
     "name": "stderr",
     "output_type": "stream",
     "text": [
      "ERROR: parameter, bri, is not modifiable. Device is set to off. for light 1\n",
      "ERROR: parameter, bri, is not modifiable. Device is set to off. for light 2\n",
      "ERROR: parameter, bri, is not modifiable. Device is set to off. for light 3\n",
      "ERROR: parameter, bri, is not modifiable. Device is set to off. for light 4\n",
      "ERROR: parameter, bri, is not modifiable. Device is set to off. for light 5\n",
      "ERROR: parameter, bri, is not modifiable. Device is set to off. for light 6\n"
     ]
    },
    {
     "name": "stdout",
     "output_type": "stream",
     "text": [
      "You said: Jarvis turn lights off Jarvis lights off\n"
     ]
    },
    {
     "name": "stderr",
     "output_type": "stream",
     "text": [
      "ERROR: parameter, bri, is not modifiable. Device is set to off. for light 7\n"
     ]
    },
    {
     "name": "stdout",
     "output_type": "stream",
     "text": [
      "Lights are now off\n",
      "I couldn't hear you, Jake\n",
      "Maybe try typing\n",
      "jarvis hello\n",
      "What’s cracking?\n",
      "You said: Jarvis where are you\n",
      "I'm in the cloud, where are you\n",
      "You said: I'm at home\n",
      "Cool, you should take a break\n",
      "You said: power down Jarvis\n",
      "signing off, sir\n",
      "the program successfully signed off\n"
     ]
    }
   ],
   "source": [
    "##################################################LISTS TO FEED JARVIS#############################\n",
    "##################################################LISTS TO FEED JARVIS#############################\n",
    "jarvisgreetings = ['Hello, Jake', 'How are you, Jake?', 'Hey there, Jake', 'What’s cracking?',\\\n",
    "                   'What can I help you with?', 'What can I do for you?']\n",
    "usergreetings = ['Hey', 'Hello', 'Hi']\n",
    "\n",
    "\n",
    "jarvishowareyou_responses = ['Somewhere between better and best', 'All the better now that you asked',\\\n",
    "                             'Im still sucking air', 'Overworked and underpaid', \\\n",
    "                             'Cant complain, Nobody listens to me anyway',\\\n",
    "                             'If I were any better, Id be you', 'Pretty good, almost, maybe']\n",
    "\n",
    "user_howareyou = ['how are you', 'how is it going', 'how is it hanging']\n",
    "\n",
    "jarvisjokes = [\"I bought some shoes from a drug dealer. I don't know what he laced them with, but I've been tripping all day.\",\n",
    "              \"I told my girlfriend she drew her eyebrows too high. She seemed surprised.\",\\\n",
    "              \"Two clowns are eating a cannibal. One turns to the other and says, I think we got this joke wrong\",\\\n",
    "              \"What's the difference between in-laws and outlaws? Outlaws are wanted.\",\\\n",
    "              \"I have an EpiPen. My friend gave it to me when he was dying, it seemed very important to him that I have it.\",\\\n",
    "              \"Geoff Hinton goes directly to third Bayes.\"]\n",
    "\n",
    "userjoke = [\"tell me something funny\", \"tell me a joke\", \"how about a joke\", \"joke\"]\n",
    "\n",
    "ti = [\"What time is it\", \"Give me the time\"]\n",
    "\n",
    "turnofflights = ['turn off lights', 'lights off']\n",
    "turnonlights = ['turn on lights', 'lights on']\n",
    "\n",
    "powerdown = [\"power down\", \"shut down\", \"turn off\", \"go away\"]\n",
    "\n",
    "\n",
    "charlist = ['a', 'b', 'c', 'd', 'e', 'f', 'g', 'h', 'i', 'j', 'k', 'l', 'm', 'n', 'o', 'p', 'q', 'r',\\\n",
    "           's', 't', 'u', 'v', 'w', 'x', 'y', 'z']\n",
    "\n",
    "\n",
    "###################################################SPEAK####################################\n",
    "###################################################SPEAK####################################\n",
    "def speak(audioString):\n",
    "    print(audioString)\n",
    "    engine = pyttsx3.init()\n",
    "    engine.say(audioString)\n",
    "    engine.runAndWait()\n",
    "\n",
    "####################################################RECORD##################################\n",
    "####################################################RECORD################################## \n",
    "def Listen():\n",
    "    # Record Audio\n",
    "    r = sr.Recognizer()\n",
    "    r.dynamic_energy_threshold = True\n",
    "    r.dynamic_energy_adjustment_damping = 0.10\n",
    "    r.dynamic_energy_ratio = 1\n",
    "    r.pause_threshold = 0.5\n",
    "    with sr.Microphone() as source:\n",
    "        audio = r.listen(source)\n",
    "    # Speech recognition using Google Speech Recognition\n",
    "    data = \"\"\n",
    "    try:\n",
    "        # Uses the default API key\n",
    "        # To use another API key: `r.recognize_google(audio, key=\"GOOGLE_SPEECH_RECOGNITION_API_KEY\")`\n",
    "        data = r.recognize_google(audio)\n",
    "        print(\"You said: \" + data)\n",
    "    except sr.UnknownValueError:\n",
    "        time.sleep(1)\n",
    "        print(\"I couldn't hear you, Jake\")\n",
    "    except sr.RequestError as e:\n",
    "        print(\"Could not request results from Google Speech Recognition service; {0}\".format(e))\n",
    "    return data\n",
    "    \n",
    "def text2text():\n",
    "    datatext = '1'\n",
    "    variable = str(input())\n",
    "    while variable is not None:\n",
    "        return variable\n",
    "        if variable is None:\n",
    "            break\n",
    "        \n",
    "\n",
    "\n",
    "\n",
    "###############################################OTHER FUNCTIONS###########################\n",
    "###############################################OTHER FUNCTIONS###########################\n",
    "def signal_handler(signal, frame):\n",
    "    print(\"\\nprogram exiting gracefully\")\n",
    "    sys.exit(0)\n",
    "    \n",
    "def ranshuff(x):\n",
    "    random.shuffle(x,random.random)\n",
    "    speak(random.choice(x))\n",
    "    \n",
    "def wiki_tellme():\n",
    "    try:\n",
    "        stringdelims = \"who is\" \n",
    "        x = data.split(stringdelims)\n",
    "        location = x[1]\n",
    "        response = wikipedia.summary(location, sentences = 1)\n",
    "        response = re.sub(r\" ?\\([^)]+\\)\", \"\",  response)\n",
    "        speak(response)\n",
    "    except wikipedia.PageError:\n",
    "        speak(\"I could not find that on wikipedia\")\n",
    "    \n",
    "def wiki_definition():\n",
    "    try:\n",
    "        stringdelims = \"Definition of\" \n",
    "        x = data.split(stringdelims)\n",
    "        location = x[1]\n",
    "        response = wikipedia.summary(location, sentences = 1)\n",
    "        response = re.sub(r\" ?\\([^)]+\\)\", \"\",  response)\n",
    "        speak(response)\n",
    "    except wikipedia.PageError:\n",
    "        speak(\"I could not find that on wikipedia\")\n",
    "        \n",
    "    \n",
    "def wiki_definition_whatis():\n",
    "    try:\n",
    "        stringdelims = \"what is a\" \n",
    "        x = data.split(stringdelims)\n",
    "        location = x[1]\n",
    "        response = wikipedia.summary(location, sentences = 1)\n",
    "        response = re.sub(r\" ?\\([^)]+\\)\", \"\",  response)\n",
    "        speak(response)\n",
    "    except wikipedia.PageError:\n",
    "        speak(\"I could not find that on wikipedia\")\n",
    "\n",
    "    \n",
    "def wiki_search():\n",
    "    try:\n",
    "        stringdelims = \"search\"\n",
    "        x = data.split(stringdelims)\n",
    "        location = x[1] \n",
    "        page = wikipedia.page(location)\n",
    "        response = page.url\n",
    "        webbrowser.open_new_tab(response)\n",
    "    except wikipedia.PageError:\n",
    "        speak(\"I could not find that on wikipedia\")\n",
    "    \n",
    "    \n",
    "def whereareyou():\n",
    "    speak(\"I'm in the cloud, where are you\")\n",
    "    data = \"\"\n",
    "    y = \"1\"\n",
    "    while \"1\" in y:\n",
    "        data = Listen()\n",
    "        if \"home\" in data:\n",
    "            speak(\"Cool, you should take a break\")\n",
    "            x = \"0\"\n",
    "            break\n",
    "                    \n",
    "    \n",
    "def weather():\n",
    "    url = \"http://api.openweathermap.org/data/2.5/weather?zip=85234&APPID=8f605c186309e3d8f60bb7b2f31ba75c&units=metric\" \n",
    "    r = requests.get(url)\n",
    "    response_dict = r.json()\n",
    "    response_dict\n",
    "    main = response_dict[\"main\"]\n",
    "    temp = main[\"temp\"]\n",
    "    temp = (temp * 9/5)+ 32\n",
    "    tempround = round(temp, 2)\n",
    "    wind = response_dict[\"wind\"]\n",
    "    windspeed = wind[\"speed\"]\n",
    "    speak(\"Here is a quick overview of current weather in Gilbert. The temperature is at \" + str(tempround) + \"degrees. The wind speed is at \" + str(windspeed) + \\\n",
    "          \"meters per second.\")\n",
    "    #Want to add functionality for three day forecasts, or weather tomorrow\n",
    "\n",
    "    \n",
    "\n",
    "\n",
    "    \n",
    "\n",
    "    \n",
    "    \n",
    "    \n",
    "    \n",
    "    \n",
    "#####################################################JARVIS######################################################\n",
    "#####################################################JARVIS######################################################\n",
    "\n",
    "def jarvis(data):\n",
    "    \n",
    "    #Greetings/niceties\n",
    "    b = Bridge('10.0.0.3') #IP of my bridge\n",
    "    b.connect()\n",
    "    currentDT = datetime.datetime.now()\n",
    "    x = []\n",
    "    y= []\n",
    "#Shuffle Greeting based on grid search of usergreetings\n",
    "    if re.compile('|'.join(usergreetings),re.IGNORECASE).search(data):\n",
    "        ranshuff(x= jarvisgreetings)\n",
    "\n",
    "#Shuffle How are you responses based on grid search of usergreetings    \n",
    "    if re.compile('|'.join(user_howareyou),re.IGNORECASE).search(data):\n",
    "        ranshuff(x= jarvishowareyou_responses)\n",
    "\n",
    "#Toy problem. Hardcoded single response to Jarvis Location    \n",
    "    if \"where are you\" in data:\n",
    "        speak(\"I'm in the cloud, where are you\")\n",
    "        data = \"\"\n",
    "        x = \"1\"\n",
    "        while \"1\" in x:\n",
    "            data = Listen()\n",
    "            if \"home\" in data:\n",
    "                speak(\"Cool, you should take a break\")\n",
    "                x = \"0\"\n",
    "                break    \n",
    "                \n",
    "#Call to Weather API for current weather in zip == 85234\n",
    "    if \"weather\" in data:\n",
    "        weather()\n",
    "    \n",
    "                \n",
    "        \n",
    "        \n",
    "#Shuffle Joke responses based on grid search of usergreetings    \n",
    "    if re.compile('|'.join(userjoke),re.IGNORECASE).search(data):\n",
    "        ranshuff(x= jarvisjokes)\n",
    "\n",
    "#Philips Hue\n",
    "    #Turn All Lights on\n",
    "    if re.compile('|'.join(turnonlights),re.IGNORECASE).search(data):\n",
    "        for l in range(1,8):\n",
    "            b.set_light(l, 'on', True)\n",
    "            b.set_light(l, 'bri', 254) \n",
    "            \n",
    "        speak('Lights are now on')\n",
    "                    \n",
    "    #Turn All Lights Off\n",
    "    if re.compile('|'.join(turnofflights),re.IGNORECASE).search(data):\n",
    "        for l in range(1,8):\n",
    "            b.set_light(l, 'on', False)\n",
    "            b.set_light(l, 'bri', 0)\n",
    "            \n",
    "        speak('Lights are now off')\n",
    "\n",
    "    #Turn All Lights to 25%\n",
    "    if \"lights to 25\" in data:\n",
    "        for l in range(1,8):\n",
    "            b.set_light(l, 'on', True)\n",
    "            b.set_light(l, 'bri', 64)\n",
    "            \n",
    "        speak('Lights are now at 25%')\n",
    "\n",
    "    #Turn All Lights to 50%\n",
    "    if \"lights to 50\" in data:\n",
    "        for l in range(1,8):\n",
    "            b.set_light(l, 'on', True)\n",
    "            b.set_light(l, 'bri', 127)\n",
    "            \n",
    "        speak('Lights are now at 50%')\n",
    "\n",
    "    #Turn All Lights to 75%\n",
    "    if \"lights to 75\" in data:\n",
    "        for l in range(1,8):\n",
    "            b.set_light(l, 'on', True)\n",
    "            b.set_light(l, 'bri', 191)\n",
    "            \n",
    "        speak('Lights are now at 75%')        \n",
    " \n",
    "        \n",
    "        \n",
    "        \n",
    "    #Will want a function that allows for fluctuation of levels hue. Need to sort grouping.\n",
    "    #Also need function inclusive of division because brightness is scaled 0:254\n",
    "        \n",
    "        \n",
    "        \n",
    "#Time Related\n",
    "    #What Time is it? Returns elaborate time material\n",
    "    if re.compile('|'.join(ti),re.IGNORECASE).search(data):\n",
    "        speak(currentDT.strftime(\"%I:%M:%S %p\"))\n",
    "    #What Day is it. Returns day\n",
    "    if \"what day is it\" in data: \n",
    "        speak(currentDT.strftime(\"%a, %b %d, %Y\"))\n",
    "    #What Day of Week is it. Returns Day of week    \n",
    "    if \"what day of the week\" in data:\n",
    "        a = datetime.date.today().strftime(\"%A\")\n",
    "        speak(a)\n",
    "         \n",
    "        \n",
    "#Locaton \n",
    "    #Call to Open Google Maps Depending on location called. Ex: Where is Gilbert, Arizona?\n",
    "    if \"where is\" in data:\n",
    "        whereareyou()\n",
    "\n",
    "        \n",
    "        \n",
    "#PC Related\n",
    "    #Basic commands to open executables on desktop\n",
    "    if \"itunes\" in data:\n",
    "        os.startfile(\"C:\\Program Files\\iTunes\\iTunes.exe\")\n",
    "        speak(\"Itunes now open\")\n",
    "    \n",
    "    if \"Excel\" in data:\n",
    "        os.startfile(\"C:\\Program Files (x86)\\Microsoft Office\\Root\\Office16\\EXCEL.EXE\")\n",
    "        speak(\"Excel now open\")\n",
    "    if \"Microsoft Word\" in data:\n",
    "        os.startfile(\"C:\\Program Files (x86)\\Microsoft Office\\Root\\Office16\\WINWORD.EXE\")\n",
    "        speak(\"Word now open\")\n",
    "    if \"Powerpoint\" in data:\n",
    "        os.startfile(\"C:\\Program Files (x86)\\Microsoft Office\\Root\\Office16\\POWERPNT.EXE\")\n",
    "        speak(\"Powerpoint now open\")\n",
    "    #Music Related\n",
    "    #Returns top (limit=x) songs for a specified artist. Call must contain \"songs\"/\"songs by\", \n",
    "    #and is parsed assuming artist called first\n",
    "    if \"songs\" in data:\n",
    "        data = data.split(\" \")\n",
    "        location = data[1]\n",
    "        from spotipy.oauth2 import SpotifyClientCredentials\n",
    "        client_credentials_manager = SpotifyClientCredentials(client_id='94099bd689b44017a712ebc815d958cc'\\\n",
    "                                                      , client_secret='1ec5c9fbc7184031ac2d3712e285f3be')\n",
    "        sp = spotipy.Spotify(client_credentials_manager=client_credentials_manager)\n",
    "        results = sp.search(q=location, limit=3)\n",
    "        for i, t in enumerate(results['tracks']['items']):\n",
    "            x = (' ',i, t['name'])\n",
    "            speak(x[2])\n",
    "            \n",
    "            \n",
    "#Random Search\n",
    "    #Search Wiki for details on person(s)\n",
    "    #Parses speech - Returns top sentences of wikipedia search for string after \"who is\"\n",
    "    #Use this as a template for cycling back through program within a conditional statement\n",
    "    if \"who is\"  in data:\n",
    "        wiki_tellme()\n",
    "        speak(\"did that answer your question\")\n",
    "        data = \"\"\n",
    "        x = \"1\"\n",
    "        while \"1\" in x:\n",
    "            data = Listen()\n",
    "            if \"yes\" in data:\n",
    "                break\n",
    "            if \"no\" in data:\n",
    "                speak(\"let's try again\")\n",
    "                x = \"2\"\n",
    "                break\n",
    "                while \"2\" in x:\n",
    "                    wiki_tellme()\n",
    "                    x = \"0\"\n",
    "                    break\n",
    "                \n",
    "   \n",
    "    #Returns definition of search. Dependent on call being initialized with 'Definition'. Parsing happens based\\ \n",
    "    #on str location of 'definition' = 1\n",
    "    if \"definition\"  in data:\n",
    "        wiki_definition()\n",
    "    #Parsing happens based on str location of 'what' = 0 and 'is' = 1\n",
    "    if \"what is\" in data:\n",
    "        wiki_definition_whatis()\n",
    "    #Initializes wiki search via browser. Opens new tab in default browser + confirms when done.\n",
    "    if \"search\" in data:\n",
    "        wiki_search()\n",
    "        speak(\"A new web page is open\")\n",
    "        \n",
    "        \n",
    "#Math Operations\n",
    "\n",
    "    if \"+\" in data:\n",
    "        ints = [int(s) for s in data.split() if s.isdigit()]\n",
    "        answer = ints[0] + ints[1]\n",
    "        speak(answer)\n",
    "    if \"-\" in data:\n",
    "        ints = [int(s) for s in data.split() if s.isdigit()]\n",
    "        answer = ints[0] - ints[1]\n",
    "        speak(answer)\n",
    "    if \"*\"  in data:\n",
    "        ints = [int(s) for s in data.split() if s.isdigit()]\n",
    "        answer = ints[0] * ints[1]\n",
    "        speak(answer)\n",
    "    if \"squared\" in data:   \n",
    "        ints = [int(s) for s in data.split() if s.isdigit()]\n",
    "        answer = ints[0] * ints[0]\n",
    "        speak(answer)\n",
    "\n",
    "\n",
    "        \n",
    "\n",
    "#initialization - start loops - Initiate Program\n",
    "\n",
    "\n",
    "\n",
    "import time\n",
    "speak(\"Jarvis here, what can I do for you!\")\n",
    "x = '1' \n",
    "while '1' in x:\n",
    "    data = Listen()\n",
    "    while \"Jarvis\" in data:  #Hotword for Jarvis activation     \n",
    "        jarvis(data)\n",
    "        data1 = None\n",
    "        break\n",
    "        \n",
    "    #This code below triggers a textbox if data contains null. May want to put this within individual questions\n",
    "    #rather than defaulting it\n",
    "    if data == \"\": \n",
    "        time.sleep(10) #Sleep so text box isn't triggered too early\n",
    "        speak('Maybe try typing')\n",
    "        data1 = text2text()\n",
    "#        while 'J' in data1:\n",
    "        if data1 is not None: #Accessible via any start/hotword   \n",
    "            jarvis(data1)\n",
    "            \n",
    "\n",
    "    \n",
    "    #Shuts down via speech\n",
    "    if re.compile('|'.join(powerdown),re.IGNORECASE).search(data):\n",
    "        speak(\"signing off, sir\")\n",
    "        print(\"the program successfully signed off\")\n",
    "        x = ['0']\n",
    "        \n",
    "        #Shuts down via speech\n",
    "    if data1 == \"power down\":\n",
    "        speak(\"signing off, sir\")\n",
    "        print(\"the program successfully signed off\")\n",
    "        x = ['0']\n",
    "        \n",
    "        \n",
    "      \n",
    "\n",
    "              \n",
    "\n",
    "\n",
    "\n",
    "\n",
    "        "
   ]
  },
  {
   "cell_type": "code",
   "execution_count": null,
   "metadata": {
    "ExecuteTime": {
     "start_time": "2018-03-30T07:03:53.906Z"
    }
   },
   "outputs": [],
   "source": []
  }
 ],
 "metadata": {
  "hide_input": false,
  "kernelspec": {
   "display_name": "Python 3",
   "language": "python",
   "name": "python3"
  },
  "language_info": {
   "codemirror_mode": {
    "name": "ipython",
    "version": 3
   },
   "file_extension": ".py",
   "mimetype": "text/x-python",
   "name": "python",
   "nbconvert_exporter": "python",
   "pygments_lexer": "ipython3",
   "version": "3.6.4"
  }
 },
 "nbformat": 4,
 "nbformat_minor": 2
}
